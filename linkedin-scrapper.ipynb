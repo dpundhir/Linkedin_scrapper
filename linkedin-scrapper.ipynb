{
 "cells": [
  {
   "cell_type": "code",
   "execution_count": 2,
   "metadata": {},
   "outputs": [],
   "source": [
    "import time\n",
    "import pandas as pd\n",
    "from selenium import webdriver\n",
    "from selenium.common.exceptions import WebDriverException\n",
    "from selenium.common.exceptions import NoSuchElementException\n",
    "from bs4 import BeautifulSoup\n",
    "import re"
   ]
  },
  {
   "cell_type": "code",
   "execution_count": 3,
   "metadata": {},
   "outputs": [],
   "source": [
    "driver = webdriver.Chrome('/usr/local/bin/chromedriver')"
   ]
  },
  {
   "cell_type": "code",
   "execution_count": 4,
   "metadata": {},
   "outputs": [],
   "source": [
    "driver.get('http://www.linkedin.com')"
   ]
  },
  {
   "cell_type": "code",
   "execution_count": 5,
   "metadata": {},
   "outputs": [
    {
     "name": "stdout",
     "output_type": "stream",
     "text": [
      "Enter your email-id pundhird@gmail.com\n",
      "Enter your password shiv@1468\n"
     ]
    }
   ],
   "source": [
    "email_id = input('Enter your email-id ')\n",
    "password = input(\"Enter your password \")"
   ]
  },
  {
   "cell_type": "code",
   "execution_count": 6,
   "metadata": {},
   "outputs": [],
   "source": [
    "driver.find_element_by_id(\"login-email\").send_keys(email_id)\n",
    "driver.find_element_by_id(\"login-password\").send_keys(password)\n",
    "driver.find_element_by_id(\"login-submit\").click()"
   ]
  },
  {
   "cell_type": "code",
   "execution_count": 7,
   "metadata": {},
   "outputs": [],
   "source": [
    "company_name = []\n",
    "company_linkedin_url = []\n",
    "employee_fname = []\n",
    "employee_lname = []\n",
    "employee_url = []\n",
    "designation = []\n",
    "location = []"
   ]
  },
  {
   "cell_type": "code",
   "execution_count": 8,
   "metadata": {},
   "outputs": [],
   "source": [
    "company_list = pd.read_csv(\"company.csv\")\n",
    "designation_list = pd.read_csv(\"designation.csv\")"
   ]
  },
  {
   "cell_type": "code",
   "execution_count": 9,
   "metadata": {},
   "outputs": [],
   "source": [
    "def func(durl,comp_no):\n",
    "    k=1\n",
    "    time.sleep(3)\n",
    "    while(True):\n",
    "        url_p = durl+'&page='+str(k)\n",
    "        driver.get(url_p)\n",
    "        time.sleep(2)\n",
    "        html = driver.page_source\n",
    "        soup = BeautifulSoup(html)\n",
    "        l1 = driver.find_elements_by_class_name('search-result__wrapper')\n",
    "        aa = soup.findAll('a')\n",
    "        for i in range(len(aa)/2):\n",
    "            if(re.match(r'^/in/', aa[i*2]['href'])):\n",
    "                driver.get('http://www.linkedin.com'+aa[i]['href'])\n",
    "                time.sleep(2)\n",
    "                employee_fname.append(driver.find_element_by_class_name('pv-top-card-section__name').text.split(\" \")[0])\n",
    "                employee_lname.append(driver.find_element_by_class_name('pv-top-card-section__name').text.split(\" \")[1:])\n",
    "                company_name.append(company_list.Company[comp_no])\n",
    "                company_linkedin_url.append(company_list['Linkedin company URL'][comp_no])\n",
    "                employee_url.append(driver.current_url)\n",
    "                designation.append(driver.find_element_by_class_name('pv-top-card-section__headline').text)\n",
    "                location.append(driver.find_element_by_class_name('pv-top-card-section__location').text)\n",
    "                \n",
    "                \n",
    "        if(len(l1)==0):\n",
    "            break\n",
    "        \n",
    "        k+=1"
   ]
  },
  {
   "cell_type": "code",
   "execution_count": null,
   "metadata": {
    "scrolled": false
   },
   "outputs": [],
   "source": [
    "import time\n",
    "for i in range(0,len(company_list)):\n",
    "    driver.get(company_list['Linkedin company URL'][i])\n",
    "    time.sleep(2)\n",
    "    try:\n",
    "        driver.find_element_by_partial_link_text(\"See all\").click()\n",
    "        time.sleep(2)\n",
    "    \n",
    "    except NoSuchElementException as e:\n",
    "        pass\n",
    "    \n",
    "    except WebDriverException:\n",
    "        driver.find_element_by_class_name(\"msg-overlay-bubble-header\").click()\n",
    "        driver.find_element_by_partial_link_text(\"See all\").click()\n",
    "        time.sleep(2)\n",
    "        \n",
    "    finally:\n",
    "        func(driver.current_url,i)"
   ]
  },
  {
   "cell_type": "code",
   "execution_count": 43,
   "metadata": {},
   "outputs": [],
   "source": [
    "df = pd.DataFrame({'Emp_fname':employee_fname,\n",
    "                 'Emp_lname':employee_lname,\n",
    "                 'Emp_URL':employee_url,\n",
    "                 'Designation':designation,\n",
    "                 'Company':company_name,\n",
    "                 'Company_URL':company_linkedin_url,\n",
    "                 'Location':location})"
   ]
  },
  {
   "cell_type": "code",
   "execution_count": 49,
   "metadata": {},
   "outputs": [],
   "source": [
    "df.to_excel('linkedin.xlsx',index=False)"
   ]
  },
  {
   "cell_type": "code",
   "execution_count": null,
   "metadata": {},
   "outputs": [],
   "source": []
  },
  {
   "cell_type": "code",
   "execution_count": null,
   "metadata": {},
   "outputs": [],
   "source": []
  }
 ],
 "metadata": {
  "kernelspec": {
   "display_name": "Python 3",
   "language": "python",
   "name": "python3"
  },
  "language_info": {
   "codemirror_mode": {
    "name": "ipython",
    "version": 3
   },
   "file_extension": ".py",
   "mimetype": "text/x-python",
   "name": "python",
   "nbconvert_exporter": "python",
   "pygments_lexer": "ipython3",
   "version": "3.6.6"
  }
 },
 "nbformat": 4,
 "nbformat_minor": 2
}
